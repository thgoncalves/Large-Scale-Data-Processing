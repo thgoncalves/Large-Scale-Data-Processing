{
 "cells": [
  {
   "cell_type": "markdown",
   "metadata": {},
   "source": [
    "# Spark code to Calculate Average of Friends a person have by Age"
   ]
  },
  {
   "cell_type": "code",
   "execution_count": 1,
   "metadata": {},
   "outputs": [],
   "source": [
    "from pyspark import SparkConf, SparkContext\n",
    "import collections\n",
    "import time\n",
    "\n",
    "import matplotlib.pyplot as plt"
   ]
  },
  {
   "cell_type": "markdown",
   "metadata": {},
   "source": [
    "## Setup"
   ]
  },
  {
   "cell_type": "code",
   "execution_count": 2,
   "metadata": {},
   "outputs": [],
   "source": [
    "conf = SparkConf().setMaster('local').setAppName('FriendsByAge')\n",
    "sc = SparkContext(conf = conf)"
   ]
  },
  {
   "cell_type": "markdown",
   "metadata": {},
   "source": [
    "## Processing files"
   ]
  },
  {
   "cell_type": "code",
   "execution_count": 10,
   "metadata": {},
   "outputs": [],
   "source": [
    "def parseLine(line):\n",
    "    fields = line.split(',')\n",
    "    stationID = fields[0]\n",
    "    entryType = fields[2]\n",
    "    temperature = float(fields[3])/10\n",
    "    return (stationID, entryType, temperature)"
   ]
  },
  {
   "cell_type": "code",
   "execution_count": 11,
   "metadata": {},
   "outputs": [],
   "source": [
    "lines = sc.textFile('data/1800.csv')\n",
    "rdd = lines.map(parseLine)"
   ]
  },
  {
   "cell_type": "code",
   "execution_count": 13,
   "metadata": {},
   "outputs": [
    {
     "data": {
      "text/plain": [
       "[('ITE00100554', 'TMAX', -7.5),\n",
       " ('ITE00100554', 'TMIN', -14.8),\n",
       " ('GM000010962', 'PRCP', 0.0),\n",
       " ('EZE00100082', 'TMAX', -8.6),\n",
       " ('EZE00100082', 'TMIN', -13.5),\n",
       " ('ITE00100554', 'TMAX', -6.0),\n",
       " ('ITE00100554', 'TMIN', -12.5),\n",
       " ('GM000010962', 'PRCP', 0.0),\n",
       " ('EZE00100082', 'TMAX', -4.4),\n",
       " ('EZE00100082', 'TMIN', -13.0)]"
      ]
     },
     "execution_count": 13,
     "metadata": {},
     "output_type": "execute_result"
    }
   ],
   "source": [
    "rdd.take(10)"
   ]
  },
  {
   "cell_type": "markdown",
   "metadata": {},
   "source": [
    "### Extracting everything but TMIN"
   ]
  },
  {
   "cell_type": "code",
   "execution_count": 14,
   "metadata": {},
   "outputs": [],
   "source": [
    "minTemps = rdd.filter(lambda x: \"TMIN\" in x[1])"
   ]
  },
  {
   "cell_type": "code",
   "execution_count": 22,
   "metadata": {},
   "outputs": [
    {
     "data": {
      "text/plain": [
       "[('ITE00100554', 'TMIN', -14.8),\n",
       " ('EZE00100082', 'TMIN', -13.5),\n",
       " ('ITE00100554', 'TMIN', -12.5),\n",
       " ('EZE00100082', 'TMIN', -13.0),\n",
       " ('ITE00100554', 'TMIN', -4.6),\n",
       " ('EZE00100082', 'TMIN', -7.3),\n",
       " ('ITE00100554', 'TMIN', -1.3),\n",
       " ('EZE00100082', 'TMIN', -7.4),\n",
       " ('ITE00100554', 'TMIN', -0.6),\n",
       " ('EZE00100082', 'TMIN', -5.8)]"
      ]
     },
     "execution_count": 22,
     "metadata": {},
     "output_type": "execute_result"
    }
   ],
   "source": [
    "minTemps.collect()[:10]"
   ]
  },
  {
   "cell_type": "code",
   "execution_count": 27,
   "metadata": {},
   "outputs": [],
   "source": [
    "stationTemps = minTemps.map(lambda x: (x[0],x[2]))"
   ]
  },
  {
   "cell_type": "code",
   "execution_count": 29,
   "metadata": {},
   "outputs": [
    {
     "data": {
      "text/plain": [
       "[('ITE00100554', -14.8),\n",
       " ('EZE00100082', -13.5),\n",
       " ('ITE00100554', -12.5),\n",
       " ('EZE00100082', -13.0),\n",
       " ('ITE00100554', -4.6),\n",
       " ('EZE00100082', -7.3),\n",
       " ('ITE00100554', -1.3),\n",
       " ('EZE00100082', -7.4),\n",
       " ('ITE00100554', -0.6),\n",
       " ('EZE00100082', -5.8)]"
      ]
     },
     "execution_count": 29,
     "metadata": {},
     "output_type": "execute_result"
    }
   ],
   "source": [
    "stationTemps.collect()[:10]"
   ]
  },
  {
   "cell_type": "code",
   "execution_count": 30,
   "metadata": {},
   "outputs": [],
   "source": [
    "minTempsPerStation = stationTemps.reduceByKey(lambda x,y: min(x,y))"
   ]
  },
  {
   "cell_type": "code",
   "execution_count": 31,
   "metadata": {},
   "outputs": [
    {
     "data": {
      "text/plain": [
       "[('ITE00100554', -14.8), ('EZE00100082', -13.5)]"
      ]
     },
     "execution_count": 31,
     "metadata": {},
     "output_type": "execute_result"
    }
   ],
   "source": [
    "minTempsPerStation.collect()[:10]"
   ]
  },
  {
   "cell_type": "code",
   "execution_count": 32,
   "metadata": {},
   "outputs": [],
   "source": [
    "results = minTempsPerStation.collect()"
   ]
  },
  {
   "cell_type": "code",
   "execution_count": 36,
   "metadata": {},
   "outputs": [
    {
     "name": "stdout",
     "output_type": "stream",
     "text": [
      "ITE00100554 \t-14.8C\n",
      "EZE00100082 \t-13.5C\n"
     ]
    }
   ],
   "source": [
    "for result in results:\n",
    "    print(f\"{result[0]} \\t{result[1]}C\")"
   ]
  },
  {
   "cell_type": "code",
   "execution_count": null,
   "metadata": {},
   "outputs": [],
   "source": []
  }
 ],
 "metadata": {
  "kernelspec": {
   "display_name": "Python 3",
   "language": "python",
   "name": "python3"
  },
  "language_info": {
   "codemirror_mode": {
    "name": "ipython",
    "version": 3
   },
   "file_extension": ".py",
   "mimetype": "text/x-python",
   "name": "python",
   "nbconvert_exporter": "python",
   "pygments_lexer": "ipython3",
   "version": "3.7.4"
  }
 },
 "nbformat": 4,
 "nbformat_minor": 4
}
